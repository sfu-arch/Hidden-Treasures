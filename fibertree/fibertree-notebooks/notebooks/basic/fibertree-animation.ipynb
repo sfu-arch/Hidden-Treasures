{
 "cells": [
  {
   "cell_type": "markdown",
   "metadata": {
    "slideshow": {
     "slide_type": "-"
    }
   },
   "source": [
    "# Animating computations using the hierarchical fiber abstraction\n",
    "\n",
    "The following cells provide an introduction to the methods provided to animate the activity in a computation.\n",
    "\n",
    "First, we include some libraries and provide some dropdown lists to select the display style and type of animation."
   ]
  },
  {
   "cell_type": "code",
   "execution_count": 1,
   "metadata": {},
   "outputs": [
    {
     "data": {
      "application/vnd.jupyter.widget-view+json": {
       "model_id": "8032b2fd4dab410880d5004c1db06c12",
       "version_major": 2,
       "version_minor": 0
      },
      "text/plain": [
       "interactive(children=(Dropdown(description='style', options=('tree', 'uncompressed', 'tree+uncompressed'), val…"
      ]
     },
     "metadata": {},
     "output_type": "display_data"
    },
    {
     "data": {
      "application/vnd.jupyter.widget-view+json": {
       "model_id": "f9c7210dbe9740c8af41dafceb0ebf0b",
       "version_major": 2,
       "version_minor": 0
      },
      "text/plain": [
       "Button(description='Run all cells below', style=ButtonStyle())"
      ]
     },
     "metadata": {},
     "output_type": "display_data"
    }
   ],
   "source": [
    "# Run boilerplate code to set up environment\n",
    "\n",
    "%run ../prelude.py --style=tree --animation=movie\n"
   ]
  },
  {
   "cell_type": "markdown",
   "metadata": {},
   "source": [
    "## Animating a computation\n",
    "\n",
    "The codebase provides some utility functions to animate the accesses to a tensor. The following examples use some convenience functions provided in __prelude.py__ to generate the aninamtions. The behind-the-scenes class used is **TensorCanvas**, which can be used directly."
   ]
  },
  {
   "cell_type": "markdown",
   "metadata": {},
   "source": [
    "## Create a tensor\n",
    "\n",
    "Just create a tensor to be used in the animation"
   ]
  },
  {
   "cell_type": "code",
   "execution_count": 4,
   "metadata": {},
   "outputs": [
    {
     "data": {
      "image/png": "[encoded data removed]",
      "text/plain": [
       "<PIL.Image.Image image mode=RGB size=880x330>"
      ]
     },
     "metadata": {},
     "output_type": "display_data"
    }
   ],
   "source": [
    "# Traverse a tensor\n",
    "import os \n",
    "os.environ['FIBERTREE_FONT'] = '/Library/Fonts/FreeMono.ttf'\n",
    "\n",
    "\n",
    "a = Tensor.fromYAMLfile(datafileName(\"matrix-a.yaml\"))\n",
    "\n",
    "displayTensor(a)"
   ]
  },
  {
   "cell_type": "markdown",
   "metadata": {},
   "source": [
    "## Animate traversal of a tensor\n",
    "\n",
    "The following cell animates the traversal of a rank-2 tensor. The key methods used are:\n",
    "\n",
    "- **createCanvas(tensor...)** - create a canvas to draw the animation on. The arguments are the tensors that are to be displayed in the animation\n",
    "\n",
    "- **canvas.addFrame(highlight...)** - add a frame to the canvas. The arguments provide the information needed to highlight specific points in each tensor being displayed in this frame. In this example, we just use a the coordinates of a single point as the highlight. See the [tensor highlighting](./highlight-multiPE.ipynb) notebook for details on how to specifiy more complex highlights (Note: addframe does not take a dictionary of PEs to highlight. More sophisticated PE highlighting is accomplished with the **canvas.addActivity()** method)\n",
    "\n",
    "- **displayCanvas(canvas)** - Turn the cavnas into a movie (or spacetime diagram) to be displayed. This convenience functions displays the result in the notebook."
   ]
  },
  {
   "cell_type": "code",
   "execution_count": 5,
   "metadata": {},
   "outputs": [
    {
     "name": "stdout",
     "output_type": "stream",
     "text": [
      "(0, F(K)/[(0 -> <1>) (2 -> <3>) ])\n",
      "Processing: (0, <1>)\n",
      "Processing: (2, <3>)\n",
      "(1, F(K)/[(0 -> <1>) (3 -> <4>) ])\n",
      "Processing: (0, <1>)\n",
      "Processing: (3, <4>)\n",
      "(3, F(K)/[(2 -> <3>) (3 -> <4>) ])\n",
      "Processing: (2, <3>)\n",
      "Processing: (3, <4>)\n"
     ]
    },
    {
     "data": {
      "application/json": {
       "ascii": false,
       "bar_format": null,
       "colour": null,
       "elapsed": 0.008821964263916016,
       "initial": 0,
       "n": 0,
       "ncols": null,
       "nrows": 25,
       "postfix": null,
       "prefix": "",
       "rate": null,
       "total": 8,
       "unit": "it",
       "unit_divisor": 1000,
       "unit_scale": false
      },
      "application/vnd.jupyter.widget-view+json": {
       "model_id": "f02e8b5a369b49b8a51087c1d88621a9",
       "version_major": 2,
       "version_minor": 0
      },
      "text/plain": [
       "  0%|          | 0/8 [00:00<?, ?it/s]"
      ]
     },
     "metadata": {},
     "output_type": "display_data"
    },
    {
     "data": {
      "text/html": [
       "<video src=\"./tmp/HGFxOmaEfe.mp4\"  loop autoplay controls  width=\"800\" >\n",
       "      Your browser does not support the <code>video</code> element.\n",
       "    </video>"
      ],
      "text/plain": [
       "<IPython.core.display.Video object>"
      ]
     },
     "metadata": {},
     "output_type": "display_data"
    }
   ],
   "source": [
    "\n",
    "canvas = createCanvas(a)\n",
    "\n",
    "a_m = a.getRoot()\n",
    "\n",
    "for m, (a_k) in a_m:\n",
    "    print(f\"({m}, {a_k})\")\n",
    "    for k, (a_val) in a_k:\n",
    "        print(f\"Processing: ({k}, {a_val})\")\n",
    "        canvas.addFrame((m,k))\n",
    "\n",
    "displayCanvas(canvas)"
   ]
  },
  {
   "cell_type": "markdown",
   "metadata": {},
   "source": [
    "## Spacetime animtation\n",
    "\n",
    "Animtations using `canvas.addActivity()` - TBD"
   ]
  },
  {
   "cell_type": "markdown",
   "metadata": {},
   "source": [
    "## Testing area\n",
    "\n",
    "For running alternative algorithms"
   ]
  },
  {
   "cell_type": "code",
   "execution_count": null,
   "metadata": {},
   "outputs": [],
   "source": []
  },
  {
   "cell_type": "code",
   "execution_count": null,
   "metadata": {},
   "outputs": [],
   "source": []
  },
  {
   "cell_type": "code",
   "execution_count": null,
   "metadata": {},
   "outputs": [],
   "source": []
  }
 ],
 "metadata": {
  "kernelspec": {
   "display_name": "Python 3 (ipykernel)",
   "language": "python",
   "name": "python3"
  },
  "language_info": {
   "codemirror_mode": {
    "name": "ipython",
    "version": 3
   },
   "file_extension": ".py",
   "mimetype": "text/x-python",
   "name": "python",
   "nbconvert_exporter": "python",
   "pygments_lexer": "ipython3",
   "version": "3.9.13"
  }
 },
 "nbformat": 4,
 "nbformat_minor": 2
}
